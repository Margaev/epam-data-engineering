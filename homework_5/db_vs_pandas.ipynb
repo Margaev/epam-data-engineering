{
 "cells": [
  {
   "cell_type": "code",
   "execution_count": 1,
   "metadata": {},
   "outputs": [],
   "source": [
    "import pandas as pd\n",
    "import psycopg2\n",
    "from psycopg2 import sql"
   ]
  },
  {
   "cell_type": "markdown",
   "metadata": {},
   "source": [
    "## Constants"
   ]
  },
  {
   "cell_type": "code",
   "execution_count": 2,
   "metadata": {},
   "outputs": [],
   "source": [
    "DB_NAME = 'consumer_complaints'\n",
    "DB_USER = 'db_user'\n",
    "DB_PASSWORD = 'password'\n",
    "DB_HOST = 'localhost'\n",
    "TABLE_NAME = 'complaints'"
   ]
  },
  {
   "cell_type": "markdown",
   "metadata": {},
   "source": [
    "## Connection to postgres"
   ]
  },
  {
   "cell_type": "code",
   "execution_count": 3,
   "metadata": {},
   "outputs": [],
   "source": [
    "conn = psycopg2.connect(dbname=DB_NAME, user=DB_USER, password=DB_PASSWORD, host=DB_HOST)\n",
    "cursor = conn.cursor()\n",
    "conn.autocommit = True"
   ]
  },
  {
   "cell_type": "markdown",
   "metadata": {},
   "source": [
    "## Postgres helper functions"
   ]
  },
  {
   "cell_type": "code",
   "execution_count": 4,
   "metadata": {},
   "outputs": [],
   "source": [
    "def create_table(cursor):\n",
    "    sql_query = sql.SQL(f'''CREATE TABLE IF NOT EXISTS {TABLE_NAME}(\n",
    "                        date_received DATE,\n",
    "                        product_name TEXT,\n",
    "                        sub_product TEXT,\n",
    "                        issue TEXT,\n",
    "                        sub_issue TEXT,\n",
    "                        consumer_complaint_narrative TEXT,\n",
    "                        company_public_response TEXT,\n",
    "                        company TEXT,\n",
    "                        state_name TEXT,\n",
    "                        zip_code TEXT,\n",
    "                        tags TEXT,\n",
    "                        consumer_consent_provided TEXT,\n",
    "                        submitted_via TEXT,\n",
    "                        date_sent_to_company TEXT,\n",
    "                        company_response_to_consumer TEXT,\n",
    "                        timely_response TEXT,\n",
    "                        consumer_disputed TEXT,\n",
    "                        complaint_id INTEGER PRIMARY KEY\n",
    "                        )''')\n",
    "    cursor.execute(sql_query)"
   ]
  },
  {
   "cell_type": "code",
   "execution_count": 5,
   "metadata": {},
   "outputs": [],
   "source": [
    "def drop_table(cursor):\n",
    "    sql_query = sql.SQL(f'DROP TABLE IF EXISTS {TABLE_NAME};')\n",
    "    cursor.execute(sql_query)"
   ]
  },
  {
   "cell_type": "code",
   "execution_count": 6,
   "metadata": {},
   "outputs": [],
   "source": [
    "def get_products_list_by_company(cursor, company):\n",
    "    sql_query = sql.SQL(f'''select * from {TABLE_NAME}\n",
    "                        where company = '{company}' and state_name = (\n",
    "                            select state_name from (\n",
    "                                select state_name, count(*) amount_of_complaints from complaints c \n",
    "                                where company = '{company}' and state_name is not null\n",
    "                                group by state_name \n",
    "                                order by amount_of_complaints desc limit 1\n",
    "                            ) state_with_max_amount_of_issues\n",
    "                        );''')\n",
    "    cursor.execute(sql_query)\n",
    "    return cursor.fetchall()"
   ]
  },
  {
   "cell_type": "code",
   "execution_count": 7,
   "metadata": {},
   "outputs": [],
   "source": [
    "def get_products_list_by_date(cursor, start_date, end_date):\n",
    "    sql_query = sql.SQL(f'''SELECT product_name, COUNT(issue) as amount_of_issues,\n",
    "                            COUNT(CASE WHEN timely_response = 'Yes' THEN 1 END) as amount_of_timely_responded,\n",
    "                            COUNT(CASE WHEN consumer_disputed = 'Yes' THEN 1 END) as amount_of_disputed\n",
    "                            FROM {TABLE_NAME}\n",
    "                            WHERE date_received >= '{start_date}'\n",
    "                            AND date_received <= '{end_date}'\n",
    "                            GROUP BY product_name\n",
    "                            ORDER BY amount_of_issues''')\n",
    "    cursor.execute(sql_query)\n",
    "    return cursor.fetchall()"
   ]
  },
  {
   "cell_type": "markdown",
   "metadata": {},
   "source": [
    "## Execution time comparison"
   ]
  },
  {
   "cell_type": "markdown",
   "metadata": {},
   "source": [
    "### Load csv to postgres table vs to pandas DataFrame"
   ]
  },
  {
   "cell_type": "code",
   "execution_count": 8,
   "metadata": {},
   "outputs": [
    {
     "name": "stdout",
     "output_type": "stream",
     "text": [
      "1.06 s ± 75.1 ms per loop (mean ± std. dev. of 7 runs, 1 loop each)\n"
     ]
    }
   ],
   "source": [
    "%%timeit drop_table(cursor)\n",
    "\n",
    "create_table(cursor)\n",
    "\n",
    "with open('P9-ConsumerComplaints.csv', 'r') as f:\n",
    "    next(f)\n",
    "    cursor.copy_expert(f\"\"\"COPY {TABLE_NAME} FROM STDIN WITH (FORMAT CSV)\"\"\", f)"
   ]
  },
  {
   "cell_type": "code",
   "execution_count": 9,
   "metadata": {},
   "outputs": [
    {
     "name": "stderr",
     "output_type": "stream",
     "text": [
      "/home/amargaev/tools/anaconda3/lib/python3.8/site-packages/IPython/core/magic.py:187: DtypeWarning: Columns (5,11) have mixed types.Specify dtype option on import or set low_memory=False.\n",
      "  call = lambda f, *a, **k: f(*a, **k)\n",
      "/home/amargaev/tools/anaconda3/lib/python3.8/site-packages/IPython/core/magics/execution.py:1167: DtypeWarning: Columns (5,11) have mixed types.Specify dtype option on import or set low_memory=False.\n",
      "  all_runs = timer.repeat(repeat, number)\n"
     ]
    },
    {
     "name": "stdout",
     "output_type": "stream",
     "text": [
      "468 ms ± 9.83 ms per loop (mean ± std. dev. of 7 runs, 1 loop each)\n"
     ]
    }
   ],
   "source": [
    "%%timeit\n",
    "\n",
    "df = pd.read_csv('P9-ConsumerComplaints.csv')"
   ]
  },
  {
   "cell_type": "markdown",
   "metadata": {},
   "source": [
    "### Querying dataset postgres vs pandas"
   ]
  },
  {
   "cell_type": "code",
   "execution_count": 10,
   "metadata": {},
   "outputs": [
    {
     "name": "stdout",
     "output_type": "stream",
     "text": [
      "53.5 ms ± 537 µs per loop (mean ± std. dev. of 7 runs, 10 loops each)\n"
     ]
    }
   ],
   "source": [
    "%%timeit company = 'Wells Fargo & Company'\n",
    "res = get_products_list_by_company(cursor, company)"
   ]
  },
  {
   "cell_type": "code",
   "execution_count": 11,
   "metadata": {},
   "outputs": [
    {
     "name": "stdout",
     "output_type": "stream",
     "text": [
      "13 ms ± 123 µs per loop (mean ± std. dev. of 7 runs, 100 loops each)\n"
     ]
    }
   ],
   "source": [
    "%%timeit company = 'Wells Fargo & Company'; df = pd.read_csv('P9-ConsumerComplaints.csv')\n",
    "df[df['Company'] == company]"
   ]
  },
  {
   "cell_type": "code",
   "execution_count": 12,
   "metadata": {},
   "outputs": [
    {
     "name": "stdout",
     "output_type": "stream",
     "text": [
      "74 ms ± 16.1 ms per loop (mean ± std. dev. of 7 runs, 1 loop each)\n"
     ]
    }
   ],
   "source": [
    "%%timeit company = 'Wells Fargo & Company'\n",
    "sql_query = sql.SQL(f'''select * from {TABLE_NAME}\n",
    "                     where company = '{company}' and state_name = (\n",
    "                         select state_name from (\n",
    "                             select state_name, count(*) amount_of_complaints from complaints c \n",
    "                                 where company = '{company}' and state_name is not null\n",
    "                                 group by state_name \n",
    "                                 order by amount_of_complaints desc limit 1\n",
    "                             ) state_with_max_amount_of_issues\n",
    "                         );''')\n",
    "df = pd.read_sql(sql_query, conn)"
   ]
  },
  {
   "cell_type": "code",
   "execution_count": 13,
   "metadata": {
    "scrolled": true
   },
   "outputs": [
    {
     "name": "stdout",
     "output_type": "stream",
     "text": [
      "18.9 ms ± 651 µs per loop (mean ± std. dev. of 7 runs, 100 loops each)\n"
     ]
    }
   ],
   "source": [
    "%%timeit start_date = '2013-07-01'; end_date = '2013-09-01'\n",
    "res = get_products_list_by_date(cursor, start_date, end_date)"
   ]
  },
  {
   "cell_type": "code",
   "execution_count": 14,
   "metadata": {},
   "outputs": [
    {
     "name": "stdout",
     "output_type": "stream",
     "text": [
      "18.7 ms ± 72 µs per loop (mean ± std. dev. of 7 runs, 100 loops each)\n"
     ]
    }
   ],
   "source": [
    "%%timeit start_date = '2013-07-01'; end_date = '2013-09-01'; df = pd.read_csv('P9-ConsumerComplaints.csv')\n",
    "df[(df['Date Received'] > start_date) & (df['Date Received'] < end_date)]"
   ]
  },
  {
   "cell_type": "code",
   "execution_count": 15,
   "metadata": {},
   "outputs": [
    {
     "name": "stdout",
     "output_type": "stream",
     "text": [
      "19.2 ms ± 103 µs per loop (mean ± std. dev. of 7 runs, 100 loops each)\n"
     ]
    }
   ],
   "source": [
    "%%timeit start_date = '2013-07-01'; end_date = '2013-09-01'\n",
    "sql_query = sql.SQL(f'''SELECT product_name, COUNT(issue) as amount_of_issues,\n",
    "                        COUNT(CASE WHEN timely_response = 'Yes' THEN 1 END) as amount_of_timely_responded,\n",
    "                        COUNT(CASE WHEN consumer_disputed = 'Yes' THEN 1 END) as amount_of_disputed\n",
    "                        FROM {TABLE_NAME}\n",
    "                        WHERE date_received >= '{start_date}'\n",
    "                        AND date_received <= '{end_date}'\n",
    "                        GROUP BY product_name\n",
    "                        ORDER BY amount_of_issues''')\n",
    "df = pd.read_sql(sql_query, conn)"
   ]
  }
 ],
 "metadata": {
  "kernelspec": {
   "display_name": "Python 3",
   "language": "python",
   "name": "python3"
  },
  "language_info": {
   "codemirror_mode": {
    "name": "ipython",
    "version": 3
   },
   "file_extension": ".py",
   "mimetype": "text/x-python",
   "name": "python",
   "nbconvert_exporter": "python",
   "pygments_lexer": "ipython3",
   "version": "3.8.3"
  }
 },
 "nbformat": 4,
 "nbformat_minor": 4
}
