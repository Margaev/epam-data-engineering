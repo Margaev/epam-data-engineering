{
 "cells": [
  {
   "cell_type": "code",
   "execution_count": 1,
   "metadata": {},
   "outputs": [],
   "source": [
    "import pandas as pd\n",
    "import numpy as np\n",
    "import datetime as dt\n",
    "import random"
   ]
  },
  {
   "cell_type": "markdown",
   "metadata": {},
   "source": [
    "## Setting up constants"
   ]
  },
  {
   "cell_type": "code",
   "execution_count": 2,
   "metadata": {},
   "outputs": [],
   "source": [
    "N = 3\n",
    "num_of_rows = 10 ** N\n",
    "columns = ['Name', 'Start Date', 'End Date', 'Implementation time']\n",
    "start_timestamp = 1546300800  # 01-01-2019\n",
    "end_timestamp = 1577836799  # 31-12-2019\n",
    "working_hours_start = 8\n",
    "working_hours_end = 18\n",
    "working_day_in_hours = working_hours_end - working_hours_start\n",
    "\n",
    "# 1, 2, 3, 4, 5, 6 и 8 января - Новый год;\n",
    "# 7 января - Рождество Христово;\n",
    "# 23 февраля - День защитника Отечества;\n",
    "# 8 марта - Международный женский день;\n",
    "# 1 мая - Праздник Весны и Труда;\n",
    "# 9 мая - День Победы;\n",
    "# 12 июня - День России;\n",
    "# 4 ноября - День народного единства.\n",
    "holidays = [\n",
    "    dt.datetime(year=2019, month=1, day=1).date(),\n",
    "    dt.datetime(year=2019, month=1, day=2).date(),\n",
    "    dt.datetime(year=2019, month=1, day=3).date(),\n",
    "    dt.datetime(year=2019, month=1, day=4).date(),\n",
    "    dt.datetime(year=2019, month=1, day=5).date(),\n",
    "    dt.datetime(year=2019, month=1, day=6).date(),\n",
    "    dt.datetime(year=2019, month=1, day=7).date(),\n",
    "    dt.datetime(year=2019, month=1, day=8).date(),\n",
    "    dt.datetime(year=2019, month=2, day=23).date(),\n",
    "    dt.datetime(year=2019, month=3, day=8).date(),\n",
    "    dt.datetime(year=2019, month=5, day=1).date(),\n",
    "    dt.datetime(year=2019, month=5, day=9).date(),\n",
    "    dt.datetime(year=2019, month=6, day=12).date(),\n",
    "    dt.datetime(year=2019, month=11, day=4).date(),\n",
    "]"
   ]
  },
  {
   "cell_type": "markdown",
   "metadata": {},
   "source": [
    "## Filling DataFrame with random values"
   ]
  },
  {
   "cell_type": "code",
   "execution_count": 3,
   "metadata": {},
   "outputs": [],
   "source": [
    "def get_random_date_range():\n",
    "    start_date_timestamp = random.randint(start_timestamp, end_timestamp)\n",
    "    start_date = dt.datetime.fromtimestamp(start_date_timestamp).replace(minute=0, second=0)\n",
    "\n",
    "    end_date_timestamp = random.randint(start_date_timestamp, end_timestamp)\n",
    "    end_date = dt.datetime.fromtimestamp(end_date_timestamp).replace(minute=0 if random.randint(0, 1) else 30, second=0)\n",
    "\n",
    "    # random timedelta under 1 week\n",
    "    # days = random.randint(0, 7)\n",
    "    # hours = random.randint(0, 23)\n",
    "    # minutes = 0 if random.randint(0, 1) else 30\n",
    "    #\n",
    "    # end_date = start_date + dt.timedelta(days=days,\n",
    "    #                                      hours=hours,\n",
    "    #                                      minutes=minutes)\n",
    "\n",
    "    return start_date, end_date"
   ]
  },
  {
   "cell_type": "code",
   "execution_count": 4,
   "metadata": {
    "scrolled": true
   },
   "outputs": [
    {
     "name": "stdout",
     "output_type": "stream",
     "text": [
      "shape: (1000, 3)\n"
     ]
    },
    {
     "data": {
      "text/html": [
       "<div>\n",
       "<style scoped>\n",
       "    .dataframe tbody tr th:only-of-type {\n",
       "        vertical-align: middle;\n",
       "    }\n",
       "\n",
       "    .dataframe tbody tr th {\n",
       "        vertical-align: top;\n",
       "    }\n",
       "\n",
       "    .dataframe thead th {\n",
       "        text-align: right;\n",
       "    }\n",
       "</style>\n",
       "<table border=\"1\" class=\"dataframe\">\n",
       "  <thead>\n",
       "    <tr style=\"text-align: right;\">\n",
       "      <th></th>\n",
       "      <th>Start Date</th>\n",
       "      <th>End Date</th>\n",
       "      <th>Implementation time</th>\n",
       "    </tr>\n",
       "    <tr>\n",
       "      <th>Name</th>\n",
       "      <th></th>\n",
       "      <th></th>\n",
       "      <th></th>\n",
       "    </tr>\n",
       "  </thead>\n",
       "  <tbody>\n",
       "    <tr>\n",
       "      <th>0</th>\n",
       "      <td>2019-10-06 19:00:00</td>\n",
       "      <td>2019-10-18 06:00:00</td>\n",
       "      <td>NaN</td>\n",
       "    </tr>\n",
       "    <tr>\n",
       "      <th>1</th>\n",
       "      <td>2019-04-02 09:00:00</td>\n",
       "      <td>2019-07-26 17:30:00</td>\n",
       "      <td>NaN</td>\n",
       "    </tr>\n",
       "    <tr>\n",
       "      <th>2</th>\n",
       "      <td>2019-01-27 05:00:00</td>\n",
       "      <td>2019-10-24 09:00:00</td>\n",
       "      <td>NaN</td>\n",
       "    </tr>\n",
       "    <tr>\n",
       "      <th>3</th>\n",
       "      <td>2019-09-04 06:00:00</td>\n",
       "      <td>2019-12-26 11:30:00</td>\n",
       "      <td>NaN</td>\n",
       "    </tr>\n",
       "    <tr>\n",
       "      <th>4</th>\n",
       "      <td>2019-09-16 08:00:00</td>\n",
       "      <td>2019-12-26 05:30:00</td>\n",
       "      <td>NaN</td>\n",
       "    </tr>\n",
       "  </tbody>\n",
       "</table>\n",
       "</div>"
      ],
      "text/plain": [
       "              Start Date            End Date Implementation time\n",
       "Name                                                            \n",
       "0    2019-10-06 19:00:00 2019-10-18 06:00:00                 NaN\n",
       "1    2019-04-02 09:00:00 2019-07-26 17:30:00                 NaN\n",
       "2    2019-01-27 05:00:00 2019-10-24 09:00:00                 NaN\n",
       "3    2019-09-04 06:00:00 2019-12-26 11:30:00                 NaN\n",
       "4    2019-09-16 08:00:00 2019-12-26 05:30:00                 NaN"
      ]
     },
     "execution_count": 4,
     "metadata": {},
     "output_type": "execute_result"
    }
   ],
   "source": [
    "df = pd.DataFrame(columns=columns)\n",
    "\n",
    "names = [j for j in range(num_of_rows)]\n",
    "df['Name'] = names\n",
    "df.set_index('Name', inplace=True)\n",
    "\n",
    "start_dates = []\n",
    "end_dates = []\n",
    "\n",
    "for j in range(num_of_rows):\n",
    "    start_date, end_date = get_random_date_range()\n",
    "    start_dates.append(start_date)\n",
    "    end_dates.append(end_date)\n",
    "\n",
    "df['Start Date'] = start_dates\n",
    "df['End Date'] = end_dates\n",
    "\n",
    "df.to_csv('data.csv')\n",
    "print('shape:', df.shape)\n",
    "df.head()"
   ]
  },
  {
   "cell_type": "markdown",
   "metadata": {},
   "source": [
    "## Filling Implementation time column"
   ]
  },
  {
   "cell_type": "code",
   "execution_count": 5,
   "metadata": {},
   "outputs": [],
   "source": [
    "def get_implementation_time(row):\n",
    "    start_date = row[0]\n",
    "    end_date = row[1]\n",
    "\n",
    "    if start_date.date() == end_date.date():\n",
    "        if start_date.weekday() not in [5, 6] and start_date.date() not in holidays:\n",
    "            implementation_time = max(min(end_date.hour + end_date.minute / 60, working_hours_end)\n",
    "                                      - max(start_date.hour + start_date.minute / 60, working_hours_start), 0)\n",
    "        else:\n",
    "            implementation_time = 0\n",
    "    else:\n",
    "        implementation_time = 0\n",
    "        periods = end_date - start_date\n",
    "        periods = periods.days - 1\n",
    "        if periods > 0:\n",
    "            date_list = pd.date_range(start_date.date() + dt.timedelta(days=1), periods=periods).to_pydatetime().tolist()\n",
    "            date_list = [x for x in date_list if x.weekday() not in [5, 6] and x.date() not in holidays]\n",
    "\n",
    "            implementation_time += working_day_in_hours * len(date_list)\n",
    "\n",
    "        if start_date.weekday() not in [5, 6] and start_date.date() not in holidays:\n",
    "            implementation_time += max(working_hours_end -\n",
    "                                       max(start_date.hour + start_date.minute / 60, working_hours_start), 0)\n",
    "\n",
    "        if end_date.weekday() not in [5, 6] and end_date.date() not in holidays:\n",
    "            implementation_time += max(min(end_date.hour + end_date.minute / 60, working_hours_end)\n",
    "                                       - working_hours_start, 0)\n",
    "\n",
    "    row[2] = implementation_time\n",
    "\n",
    "    return row"
   ]
  },
  {
   "cell_type": "code",
   "execution_count": 6,
   "metadata": {},
   "outputs": [
    {
     "data": {
      "text/html": [
       "<div>\n",
       "<style scoped>\n",
       "    .dataframe tbody tr th:only-of-type {\n",
       "        vertical-align: middle;\n",
       "    }\n",
       "\n",
       "    .dataframe tbody tr th {\n",
       "        vertical-align: top;\n",
       "    }\n",
       "\n",
       "    .dataframe thead th {\n",
       "        text-align: right;\n",
       "    }\n",
       "</style>\n",
       "<table border=\"1\" class=\"dataframe\">\n",
       "  <thead>\n",
       "    <tr style=\"text-align: right;\">\n",
       "      <th></th>\n",
       "      <th>Start Date</th>\n",
       "      <th>End Date</th>\n",
       "      <th>Implementation time</th>\n",
       "    </tr>\n",
       "    <tr>\n",
       "      <th>Name</th>\n",
       "      <th></th>\n",
       "      <th></th>\n",
       "      <th></th>\n",
       "    </tr>\n",
       "  </thead>\n",
       "  <tbody>\n",
       "    <tr>\n",
       "      <th>0</th>\n",
       "      <td>2019-08-23 15:00:00</td>\n",
       "      <td>2019-11-20 22:30:00</td>\n",
       "      <td>623.0</td>\n",
       "    </tr>\n",
       "    <tr>\n",
       "      <th>1</th>\n",
       "      <td>2019-07-15 16:00:00</td>\n",
       "      <td>2019-10-01 12:30:00</td>\n",
       "      <td>546.5</td>\n",
       "    </tr>\n",
       "    <tr>\n",
       "      <th>2</th>\n",
       "      <td>2019-01-12 09:00:00</td>\n",
       "      <td>2019-06-26 23:00:00</td>\n",
       "      <td>1140.0</td>\n",
       "    </tr>\n",
       "    <tr>\n",
       "      <th>3</th>\n",
       "      <td>2019-03-04 03:00:00</td>\n",
       "      <td>2019-11-22 15:30:00</td>\n",
       "      <td>1847.5</td>\n",
       "    </tr>\n",
       "    <tr>\n",
       "      <th>4</th>\n",
       "      <td>2019-01-24 14:00:00</td>\n",
       "      <td>2019-03-18 10:30:00</td>\n",
       "      <td>356.5</td>\n",
       "    </tr>\n",
       "  </tbody>\n",
       "</table>\n",
       "</div>"
      ],
      "text/plain": [
       "              Start Date            End Date  Implementation time\n",
       "Name                                                             \n",
       "0    2019-08-23 15:00:00 2019-11-20 22:30:00                623.0\n",
       "1    2019-07-15 16:00:00 2019-10-01 12:30:00                546.5\n",
       "2    2019-01-12 09:00:00 2019-06-26 23:00:00               1140.0\n",
       "3    2019-03-04 03:00:00 2019-11-22 15:30:00               1847.5\n",
       "4    2019-01-24 14:00:00 2019-03-18 10:30:00                356.5"
      ]
     },
     "execution_count": 6,
     "metadata": {},
     "output_type": "execute_result"
    }
   ],
   "source": [
    "df.to_csv('data.csv', header=True)\n",
    "\n",
    "dateparse = lambda x: dt.datetime.strptime(x, '%Y-%m-%d %H:%M:%S')\n",
    "chunk_size = 10 ** 5\n",
    "for chunk in pd.read_csv('data.csv', chunksize=chunk_size, parse_dates=[1, 2], date_parser=dateparse):\n",
    "    chunk.set_index('Name', inplace=True)\n",
    "    chunk = chunk.apply(func=get_implementation_time, axis=1)\n",
    "    chunk.to_csv('result.csv', mode='a', header=False)\n",
    "\n",
    "    \n",
    "dateparse = lambda x: dt.datetime.strptime(x, '%Y-%m-%d %H:%M:%S')\n",
    "df = pd.read_csv('result.csv', names=columns, parse_dates=['Start Date', 'End Date'], date_parser=dateparse)\n",
    "df.set_index('Name', inplace=True)\n",
    "df.head()"
   ]
  },
  {
   "cell_type": "code",
   "execution_count": 7,
   "metadata": {},
   "outputs": [
    {
     "data": {
      "text/plain": [
       "0"
      ]
     },
     "execution_count": 7,
     "metadata": {},
     "output_type": "execute_result"
    }
   ],
   "source": [
    "df['Implementation time'].isna().sum()"
   ]
  },
  {
   "cell_type": "markdown",
   "metadata": {},
   "source": [
    "## Visualization"
   ]
  },
  {
   "cell_type": "code",
   "execution_count": 9,
   "metadata": {},
   "outputs": [],
   "source": [
    "from collections import Counter\n",
    "\n",
    "received = Counter()\n",
    "processed = Counter()\n",
    "\n",
    "for i, row in df.iterrows():\n",
    "    start_date = row['Start Date']\n",
    "    received.update([start_date.month, ])\n",
    "    \n",
    "    end_date = row['End Date']\n",
    "    processed.update([end_date.month, ])"
   ]
  },
  {
   "cell_type": "code",
   "execution_count": 10,
   "metadata": {},
   "outputs": [
    {
     "data": {
      "text/plain": [
       "<matplotlib.legend.Legend at 0x7f6db297d4f0>"
      ]
     },
     "execution_count": 10,
     "metadata": {},
     "output_type": "execute_result"
    },
    {
     "data": {
      "image/png": "[encoded data removed]",
      "text/plain": [
       "<Figure size 432x288 with 1 Axes>"
      ]
     },
     "metadata": {
      "needs_background": "light"
     },
     "output_type": "display_data"
    }
   ],
   "source": [
    "import matplotlib.pyplot as plt\n",
    "\n",
    "plt.title('applications per month')\n",
    "plt.xlabel('Months')\n",
    "plt.ylabel('Number of applications')\n",
    "width = 0.35\n",
    "plt.bar(received.keys(), received.values(), width, color='#97dc91', label='number of applications received')\n",
    "plt.bar(np.array(list(processed.keys())) + width, processed.values(), width, color='#ecab9b', label='number of applications processed')\n",
    "plt.legend()"
   ]
  },
  {
   "cell_type": "markdown",
   "metadata": {},
   "source": [
    "## Tests"
   ]
  },
  {
   "cell_type": "code",
   "execution_count": 11,
   "metadata": {},
   "outputs": [
    {
     "name": "stderr",
     "output_type": "stream",
     "text": [
      "...\n",
      "----------------------------------------------------------------------\n",
      "Ran 3 tests in 0.020s\n",
      "\n",
      "OK\n"
     ]
    },
    {
     "data": {
      "text/plain": [
       "<unittest.main.TestProgram at 0x7f6daa516040>"
      ]
     },
     "execution_count": 11,
     "metadata": {},
     "output_type": "execute_result"
    }
   ],
   "source": [
    "import unittest\n",
    "\n",
    "\n",
    "class TestImplementationTime(unittest.TestCase):\n",
    "\n",
    "    def test_weekends(self):\n",
    "        \"\"\"\n",
    "        Testing implementation time calculating for weekends\n",
    "        \"\"\"\n",
    "        # 2019-01-12 is saturday and 2019-01-13 is sunday\n",
    "        df = pd.DataFrame(\n",
    "            [[1, dt.datetime(year=2019, month=1, day=12, hour=0, minute=0), dt.datetime(year=2019, month=1, day=13, hour=23, minute=30), None],\n",
    "             [2, dt.datetime(year=2019, month=1, day=11, hour=0, minute=0), dt.datetime(year=2019, month=1, day=12, hour=23, minute=30), None],\n",
    "             [3, dt.datetime(year=2019, month=1, day=13, hour=0, minute=0), dt.datetime(year=2019, month=1, day=14, hour=23, minute=30), None],\n",
    "             [4, dt.datetime(year=2019, month=1, day=11, hour=0, minute=0), dt.datetime(year=2019, month=1, day=14, hour=23, minute=30), None]],\n",
    "            columns=columns\n",
    "        )\n",
    "    \n",
    "        df.set_index('Name', inplace=True)\n",
    "        df = df.apply(func=get_implementation_time, axis=1)\n",
    "        \n",
    "        self.assertEqual(df.iloc[0, 2], 0)\n",
    "        self.assertEqual(df.iloc[1, 2], 10)\n",
    "        self.assertEqual(df.iloc[2, 2], 10)\n",
    "        self.assertEqual(df.iloc[3, 2], 20)\n",
    "\n",
    "    def test_holidays(self):\n",
    "        \"\"\"\n",
    "        Testing implementation time calculating for holidays\n",
    "        \"\"\"\n",
    "        # 2019-06-12 is holiday\n",
    "        df = pd.DataFrame(\n",
    "            [[1, dt.datetime(year=2019, month=6, day=12, hour=0, minute=0), dt.datetime(year=2019, month=6, day=12, hour=23, minute=30), None],\n",
    "             [2, dt.datetime(year=2019, month=6, day=11, hour=0, minute=0), dt.datetime(year=2019, month=6, day=12, hour=23, minute=30), None],\n",
    "             [3, dt.datetime(year=2019, month=6, day=12, hour=0, minute=0), dt.datetime(year=2019, month=6, day=13, hour=23, minute=30), None],\n",
    "             [4, dt.datetime(year=2019, month=6, day=11, hour=0, minute=0), dt.datetime(year=2019, month=6, day=13, hour=23, minute=30), None]],\n",
    "            columns=columns\n",
    "        )\n",
    "    \n",
    "        df.set_index('Name', inplace=True)\n",
    "        df = df.apply(func=get_implementation_time, axis=1)\n",
    "        \n",
    "        self.assertEqual(df.iloc[0, 2], 0)\n",
    "        self.assertEqual(df.iloc[1, 2], 10)\n",
    "        self.assertEqual(df.iloc[2, 2], 10)\n",
    "        self.assertEqual(df.iloc[3, 2], 20)\n",
    "\n",
    "    def test_non_working_hours(self):\n",
    "        \"\"\"\n",
    "        Testing implementation time calculating for non-working hours\n",
    "        \"\"\"\n",
    "        # working hours is 8-18\n",
    "        df = pd.DataFrame(\n",
    "            [[1, dt.datetime(year=2019, month=11, day=20, hour=0, minute=0), dt.datetime(year=2019, month=11, day=20, hour=7, minute=30), None],\n",
    "             [2, dt.datetime(year=2019, month=11, day=20, hour=0, minute=0), dt.datetime(year=2019, month=11, day=20, hour=9, minute=30), None],\n",
    "             [3, dt.datetime(year=2019, month=11, day=20, hour=10, minute=0), dt.datetime(year=2019, month=11, day=20, hour=17, minute=0), None],\n",
    "             [4, dt.datetime(year=2019, month=11, day=20, hour=17, minute=0), dt.datetime(year=2019, month=11, day=20, hour=23, minute=30), None],\n",
    "             [4, dt.datetime(year=2019, month=11, day=20, hour=18, minute=0), dt.datetime(year=2019, month=11, day=20, hour=23, minute=30), None],\n",
    "             [4, dt.datetime(year=2019, month=11, day=20, hour=0, minute=0), dt.datetime(year=2019, month=11, day=20, hour=23, minute=30), None]],\n",
    "            columns=columns\n",
    "        )\n",
    "    \n",
    "        df.set_index('Name', inplace=True)\n",
    "        df = df.apply(func=get_implementation_time, axis=1)\n",
    "        \n",
    "        self.assertEqual(df.iloc[0, 2], 0)\n",
    "        self.assertEqual(df.iloc[1, 2], 1.5)\n",
    "        self.assertEqual(df.iloc[2, 2], 7)\n",
    "        self.assertEqual(df.iloc[3, 2], 1)  \n",
    "        self.assertEqual(df.iloc[4, 2], 0) \n",
    "        self.assertEqual(df.iloc[5, 2], 10)         \n",
    "        \n",
    "            \n",
    "unittest.main(argv=[''], exit=False)"
   ]
  }
 ],
 "metadata": {
  "kernelspec": {
   "display_name": "Python 3",
   "language": "python",
   "name": "python3"
  },
  "language_info": {
   "codemirror_mode": {
    "name": "ipython",
    "version": 3
   },
   "file_extension": ".py",
   "mimetype": "text/x-python",
   "name": "python",
   "nbconvert_exporter": "python",
   "pygments_lexer": "ipython3",
   "version": "3.8.3"
  }
 },
 "nbformat": 4,
 "nbformat_minor": 4
}
